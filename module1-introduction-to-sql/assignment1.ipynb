{
 "cells": [
  {
   "cell_type": "code",
   "execution_count": 2,
   "metadata": {},
   "outputs": [],
   "source": [
    "import sqlite3\n"
   ]
  },
  {
   "cell_type": "code",
   "execution_count": 3,
   "metadata": {},
   "outputs": [],
   "source": [
    "conn = sqlite3.connect(\"rpg_db.sqlite3\")"
   ]
  },
  {
   "cell_type": "code",
   "execution_count": 4,
   "metadata": {},
   "outputs": [],
   "source": [
    "#dir(conn)"
   ]
  },
  {
   "cell_type": "code",
   "execution_count": 5,
   "metadata": {},
   "outputs": [],
   "source": [
    "cursor = conn.cursor()\n",
    "#dir(cursor)"
   ]
  },
  {
   "cell_type": "markdown",
   "metadata": {},
   "source": [
    "## How many total characters are there?"
   ]
  },
  {
   "cell_type": "code",
   "execution_count": 6,
   "metadata": {},
   "outputs": [
    {
     "name": "stdout",
     "output_type": "stream",
     "text": [
      "[(302,)]\n"
     ]
    }
   ],
   "source": [
    "query = '''\n",
    "SELECT\n",
    " count(DISTINCT character_id)\n",
    "FROM charactercreator_character;\n",
    "'''\n",
    "result = cursor.execute(query).fetchall()\n",
    "print(result)"
   ]
  },
  {
   "cell_type": "markdown",
   "metadata": {},
   "source": [
    "## Q2. How many characters for each specific subclass"
   ]
  },
  {
   "cell_type": "code",
   "execution_count": 12,
   "metadata": {},
   "outputs": [
    {
     "name": "stdout",
     "output_type": "stream",
     "text": [
      "[(108,)]\n"
     ]
    }
   ],
   "source": [
    "query2 = '''\n",
    "SELECT\n",
    "  COUNT(DISTINCT character_ptr_id) as character_total\n",
    "FROM charactercreator_mage;\n",
    "\n",
    "'''\n",
    "result2 = cursor.execute(query2).fetchall()\n",
    "print(result2)"
   ]
  },
  {
   "cell_type": "code",
   "execution_count": 13,
   "metadata": {},
   "outputs": [
    {
     "name": "stdout",
     "output_type": "stream",
     "text": [
      "(1, 1)\n"
     ]
    },
    {
     "data": {
      "text/html": [
       "<div>\n",
       "<style scoped>\n",
       "    .dataframe tbody tr th:only-of-type {\n",
       "        vertical-align: middle;\n",
       "    }\n",
       "\n",
       "    .dataframe tbody tr th {\n",
       "        vertical-align: top;\n",
       "    }\n",
       "\n",
       "    .dataframe thead th {\n",
       "        text-align: right;\n",
       "    }\n",
       "</style>\n",
       "<table border=\"1\" class=\"dataframe\">\n",
       "  <thead>\n",
       "    <tr style=\"text-align: right;\">\n",
       "      <th></th>\n",
       "      <th>character_total</th>\n",
       "    </tr>\n",
       "  </thead>\n",
       "  <tbody>\n",
       "    <tr>\n",
       "      <th>0</th>\n",
       "      <td>108</td>\n",
       "    </tr>\n",
       "  </tbody>\n",
       "</table>\n",
       "</div>"
      ],
      "text/plain": [
       "   character_total\n",
       "0              108"
      ]
     },
     "execution_count": 13,
     "metadata": {},
     "output_type": "execute_result"
    }
   ],
   "source": [
    "import pandas as pd\n",
    "\n",
    "#get columns from cursor object\n",
    "columns = list(map(lambda x: x[0],cursor.description))\n",
    "\n",
    "#assign to dataframe\n",
    "df = pd.DataFrame(data=result2,columns=columns)\n",
    "print(df.shape)\n",
    "df.head(10)"
   ]
  },
  {
   "cell_type": "markdown",
   "metadata": {},
   "source": [
    "## Q3. How many total items"
   ]
  },
  {
   "cell_type": "code",
   "execution_count": 19,
   "metadata": {},
   "outputs": [
    {
     "name": "stdout",
     "output_type": "stream",
     "text": [
      "[(174,)]\n"
     ]
    }
   ],
   "source": [
    "query3 = '''\n",
    "SELECT\n",
    "  COUNT(DISTINCT item_id)\n",
    "FROM armory_item;\n",
    "\n",
    "'''\n",
    "result3 = cursor.execute(query3).fetchall()\n",
    "print(result3)"
   ]
  },
  {
   "cell_type": "markdown",
   "metadata": {},
   "source": [
    "## Q4. How many of the Items are weapons? How many are not?"
   ]
  },
  {
   "cell_type": "code",
   "execution_count": null,
   "metadata": {},
   "outputs": [],
   "source": [
    "query4 = '''\n",
    "SELECT\n",
    "  COUNT(DISTINCT item_id)\n",
    "FROM armory_item;\n",
    "\n",
    "'''\n",
    "result4 = cursor.execute(query4).fetchall()\n",
    "print(result4)"
   ]
  },
  {
   "cell_type": "markdown",
   "metadata": {},
   "source": [
    "## Q5. How many Items does each character have? (Return first 20 rows)"
   ]
  },
  {
   "cell_type": "code",
   "execution_count": 35,
   "metadata": {},
   "outputs": [
    {
     "name": "stdout",
     "output_type": "stream",
     "text": [
      "[(1, 0), (2, 0), (3, 0), (4, 0), (5, 2), (6, 0), (7, 1), (8, 0), (9, 0), (10, 0), (11, 1), (12, 0), (13, 0), (14, 0), (15, 0), (16, 0), (17, 0), (18, 0), (19, 0), (20, 1)]\n"
     ]
    }
   ],
   "source": [
    "query5 = '''\n",
    "SELECT\n",
    "  cci.character_id,\n",
    "COUNT(DISTINCT (aw.item_ptr_id))\n",
    "FROM charactercreator_character_inventory as cci\n",
    "LEFT JOIN armory_weapon AS aw\n",
    "ON cci.item_id = aw.item_ptr_id\n",
    "GROUP BY character_id\n",
    "LIMIT 20;\n",
    "\n",
    "'''\n",
    "\n",
    "result5 = cursor.execute(query5).fetchall()\n",
    "print(result5)"
   ]
  },
  {
   "cell_type": "code",
   "execution_count": null,
   "metadata": {},
   "outputs": [],
   "source": []
  },
  {
   "cell_type": "markdown",
   "metadata": {},
   "source": [
    "## Q6. How many Weapons does each character have? (Return first 20 rows)"
   ]
  },
  {
   "cell_type": "code",
   "execution_count": 33,
   "metadata": {},
   "outputs": [
    {
     "name": "stdout",
     "output_type": "stream",
     "text": [
      "[(5, 2), (7, 1), (11, 1), (20, 1), (22, 1), (23, 1), (26, 1), (27, 3), (29, 2), (30, 1), (32, 1), (34, 1), (35, 2), (36, 3), (37, 2), (38, 2), (39, 2), (40, 1), (41, 1), (47, 1)]\n"
     ]
    }
   ],
   "source": [
    "query6 = '''\n",
    "SELECT\n",
    "  cci.character_id,\n",
    "COUNT(DISTINCT (aw.item_ptr_id))\n",
    "FROM charactercreator_character_inventory as cci\n",
    "JOIN armory_weapon AS aw\n",
    "ON cci.item_id = aw.item_ptr_id\n",
    "GROUP BY cci.character_id\n",
    "LIMIT 20;\n",
    "\n",
    "'''\n",
    "\n",
    "result6 = cursor.execute(query6).fetchall()\n",
    "print(result6)"
   ]
  },
  {
   "cell_type": "code",
   "execution_count": null,
   "metadata": {},
   "outputs": [],
   "source": [
    "#get columns from cursor object\n",
    "columns = list(map(lambda x:x[0], cursor.description))\n",
    "\n",
    "#assign to dataframe\n",
    "df5 = pd.DataFrame(data=result5,columns=columns)\n",
    "print(df5.shape)\n",
    "df5.head(20)"
   ]
  },
  {
   "cell_type": "code",
   "execution_count": 34,
   "metadata": {},
   "outputs": [
    {
     "name": "stdout",
     "output_type": "stream",
     "text": [
      "(20, 2)\n"
     ]
    },
    {
     "data": {
      "text/html": [
       "<div>\n",
       "<style scoped>\n",
       "    .dataframe tbody tr th:only-of-type {\n",
       "        vertical-align: middle;\n",
       "    }\n",
       "\n",
       "    .dataframe tbody tr th {\n",
       "        vertical-align: top;\n",
       "    }\n",
       "\n",
       "    .dataframe thead th {\n",
       "        text-align: right;\n",
       "    }\n",
       "</style>\n",
       "<table border=\"1\" class=\"dataframe\">\n",
       "  <thead>\n",
       "    <tr style=\"text-align: right;\">\n",
       "      <th></th>\n",
       "      <th>character_id</th>\n",
       "      <th>COUNT(DISTINCT (aw.item_ptr_id))</th>\n",
       "    </tr>\n",
       "  </thead>\n",
       "  <tbody>\n",
       "    <tr>\n",
       "      <th>0</th>\n",
       "      <td>5</td>\n",
       "      <td>2</td>\n",
       "    </tr>\n",
       "    <tr>\n",
       "      <th>1</th>\n",
       "      <td>7</td>\n",
       "      <td>1</td>\n",
       "    </tr>\n",
       "    <tr>\n",
       "      <th>2</th>\n",
       "      <td>11</td>\n",
       "      <td>1</td>\n",
       "    </tr>\n",
       "    <tr>\n",
       "      <th>3</th>\n",
       "      <td>20</td>\n",
       "      <td>1</td>\n",
       "    </tr>\n",
       "    <tr>\n",
       "      <th>4</th>\n",
       "      <td>22</td>\n",
       "      <td>1</td>\n",
       "    </tr>\n",
       "    <tr>\n",
       "      <th>5</th>\n",
       "      <td>23</td>\n",
       "      <td>1</td>\n",
       "    </tr>\n",
       "    <tr>\n",
       "      <th>6</th>\n",
       "      <td>26</td>\n",
       "      <td>1</td>\n",
       "    </tr>\n",
       "    <tr>\n",
       "      <th>7</th>\n",
       "      <td>27</td>\n",
       "      <td>3</td>\n",
       "    </tr>\n",
       "    <tr>\n",
       "      <th>8</th>\n",
       "      <td>29</td>\n",
       "      <td>2</td>\n",
       "    </tr>\n",
       "    <tr>\n",
       "      <th>9</th>\n",
       "      <td>30</td>\n",
       "      <td>1</td>\n",
       "    </tr>\n",
       "    <tr>\n",
       "      <th>10</th>\n",
       "      <td>32</td>\n",
       "      <td>1</td>\n",
       "    </tr>\n",
       "    <tr>\n",
       "      <th>11</th>\n",
       "      <td>34</td>\n",
       "      <td>1</td>\n",
       "    </tr>\n",
       "    <tr>\n",
       "      <th>12</th>\n",
       "      <td>35</td>\n",
       "      <td>2</td>\n",
       "    </tr>\n",
       "    <tr>\n",
       "      <th>13</th>\n",
       "      <td>36</td>\n",
       "      <td>3</td>\n",
       "    </tr>\n",
       "    <tr>\n",
       "      <th>14</th>\n",
       "      <td>37</td>\n",
       "      <td>2</td>\n",
       "    </tr>\n",
       "    <tr>\n",
       "      <th>15</th>\n",
       "      <td>38</td>\n",
       "      <td>2</td>\n",
       "    </tr>\n",
       "    <tr>\n",
       "      <th>16</th>\n",
       "      <td>39</td>\n",
       "      <td>2</td>\n",
       "    </tr>\n",
       "    <tr>\n",
       "      <th>17</th>\n",
       "      <td>40</td>\n",
       "      <td>1</td>\n",
       "    </tr>\n",
       "    <tr>\n",
       "      <th>18</th>\n",
       "      <td>41</td>\n",
       "      <td>1</td>\n",
       "    </tr>\n",
       "    <tr>\n",
       "      <th>19</th>\n",
       "      <td>47</td>\n",
       "      <td>1</td>\n",
       "    </tr>\n",
       "  </tbody>\n",
       "</table>\n",
       "</div>"
      ],
      "text/plain": [
       "    character_id  COUNT(DISTINCT (aw.item_ptr_id))\n",
       "0              5                                 2\n",
       "1              7                                 1\n",
       "2             11                                 1\n",
       "3             20                                 1\n",
       "4             22                                 1\n",
       "5             23                                 1\n",
       "6             26                                 1\n",
       "7             27                                 3\n",
       "8             29                                 2\n",
       "9             30                                 1\n",
       "10            32                                 1\n",
       "11            34                                 1\n",
       "12            35                                 2\n",
       "13            36                                 3\n",
       "14            37                                 2\n",
       "15            38                                 2\n",
       "16            39                                 2\n",
       "17            40                                 1\n",
       "18            41                                 1\n",
       "19            47                                 1"
      ]
     },
     "execution_count": 34,
     "metadata": {},
     "output_type": "execute_result"
    }
   ],
   "source": [
    "import pandas as pd\n",
    "\n",
    "#get columns from cursor object\n",
    "columns = list(map(lambda x:x[0], cursor.description))\n",
    "\n",
    "#assign to dataframe\n",
    "df6 = pd.DataFrame(data=result6,columns=columns)\n",
    "print(df6.shape)\n",
    "df6.head(20)"
   ]
  },
  {
   "cell_type": "markdown",
   "metadata": {},
   "source": [
    "## Q7. On average, how many Items does each Character have?"
   ]
  },
  {
   "cell_type": "code",
   "execution_count": 38,
   "metadata": {},
   "outputs": [
    {
     "name": "stdout",
     "output_type": "stream",
     "text": [
      "[(1, 3), (2, 3), (3, 2), (4, 4), (5, 4), (6, 1), (7, 5), (8, 3), (9, 4), (10, 4), (11, 3), (12, 3), (13, 4), (14, 4), (15, 4), (16, 1), (17, 5), (18, 5), (19, 3), (20, 1), (21, 4), (22, 3), (23, 3), (24, 1), (25, 2), (26, 2), (27, 5), (28, 1), (29, 4), (30, 4), (31, 3), (32, 2), (33, 2), (34, 4), (35, 5), (36, 5), (37, 5), (38, 5), (39, 3), (40, 3), (41, 2), (42, 3), (43, 1), (44, 1), (45, 4), (46, 1), (47, 4), (48, 4), (49, 4), (50, 1), (51, 3), (52, 2), (53, 5), (54, 1), (55, 4), (56, 1), (57, 3), (58, 4), (59, 4), (60, 4), (61, 2), (62, 1), (63, 5), (64, 3), (65, 5), (66, 5), (67, 1), (68, 4), (69, 3), (70, 3), (71, 3), (72, 1), (73, 1), (74, 2), (75, 1), (76, 1), (77, 4), (78, 3), (79, 1), (80, 3), (81, 5), (82, 4), (83, 3), (84, 4), (85, 5), (86, 5), (87, 1), (88, 4), (89, 2), (90, 2), (91, 5), (92, 5), (93, 4), (94, 4), (95, 5), (96, 5), (97, 3), (98, 2), (99, 1), (100, 5), (101, 5), (102, 3), (103, 5), (104, 5), (105, 3), (106, 4), (107, 1), (108, 4), (109, 1), (110, 1), (111, 1), (112, 2), (113, 2), (114, 5), (115, 5), (116, 1), (117, 4), (118, 5), (119, 5), (120, 3), (121, 3), (122, 2), (123, 3), (124, 1), (125, 3), (126, 1), (127, 3), (128, 3), (129, 5), (130, 1), (131, 3), (132, 4), (133, 3), (134, 4), (135, 5), (136, 4), (137, 3), (138, 3), (139, 5), (140, 3), (141, 1), (142, 5), (143, 2), (144, 1), (145, 4), (146, 4), (147, 1), (148, 4), (149, 3), (150, 3), (151, 3), (152, 3), (153, 4), (154, 3), (155, 4), (156, 5), (157, 1), (158, 1), (159, 3), (160, 5), (161, 2), (162, 2), (163, 3), (164, 1), (165, 5), (166, 4), (167, 2), (168, 1), (169, 1), (170, 4), (171, 4), (172, 2), (173, 2), (174, 2), (175, 3), (176, 3), (177, 2), (178, 2), (179, 2), (180, 1), (181, 5), (182, 1), (183, 4), (184, 4), (185, 4), (186, 2), (187, 1), (188, 2), (189, 1), (190, 4), (191, 3), (192, 2), (193, 4), (194, 5), (195, 1), (196, 4), (197, 5), (198, 5), (199, 3), (200, 1), (201, 5), (202, 1), (203, 1), (204, 1), (205, 2), (206, 5), (207, 1), (208, 2), (209, 1), (210, 3), (211, 1), (212, 2), (213, 2), (214, 1), (215, 1), (216, 3), (217, 3), (218, 2), (219, 1), (220, 4), (221, 4), (222, 2), (223, 2), (224, 1), (225, 3), (226, 2), (227, 4), (228, 2), (229, 3), (230, 1), (231, 3), (232, 4), (233, 5), (234, 1), (235, 5), (236, 1), (237, 1), (238, 5), (239, 3), (240, 3), (241, 3), (242, 1), (243, 3), (244, 4), (245, 5), (246, 3), (247, 5), (248, 1), (249, 4), (250, 4), (251, 5), (252, 2), (253, 2), (254, 1), (255, 2), (256, 2), (257, 3), (258, 4), (259, 5), (260, 4), (261, 5), (262, 4), (263, 4), (264, 5), (265, 3), (266, 5), (267, 4), (268, 1), (269, 1), (270, 1), (271, 2), (272, 2), (273, 3), (274, 3), (275, 2), (276, 1), (277, 1), (278, 1), (279, 2), (280, 5), (281, 5), (282, 4), (283, 4), (284, 1), (285, 5), (286, 1), (287, 5), (288, 3), (289, 5), (290, 5), (291, 4), (292, 2), (293, 2), (294, 5), (295, 2), (296, 3), (297, 4), (298, 2), (299, 3), (300, 1), (301, 2), (302, 5)]\n"
     ]
    }
   ],
   "source": [
    "query_7='''\n",
    "SELECT\n",
    "  character_id,\n",
    "  COUNT(DISTINCT item_id) AS character_count\n",
    "FROM charactercreator_character_inventory\n",
    "GROUP BY character_id;\n",
    "'''\n",
    "result7=cursor.execute(query_7).fetchall()\n",
    "print(result7)"
   ]
  },
  {
   "cell_type": "code",
   "execution_count": 39,
   "metadata": {},
   "outputs": [
    {
     "name": "stdout",
     "output_type": "stream",
     "text": [
      "(302, 2)\n"
     ]
    },
    {
     "data": {
      "text/html": [
       "<div>\n",
       "<style scoped>\n",
       "    .dataframe tbody tr th:only-of-type {\n",
       "        vertical-align: middle;\n",
       "    }\n",
       "\n",
       "    .dataframe tbody tr th {\n",
       "        vertical-align: top;\n",
       "    }\n",
       "\n",
       "    .dataframe thead th {\n",
       "        text-align: right;\n",
       "    }\n",
       "</style>\n",
       "<table border=\"1\" class=\"dataframe\">\n",
       "  <thead>\n",
       "    <tr style=\"text-align: right;\">\n",
       "      <th></th>\n",
       "      <th>character_id</th>\n",
       "      <th>character_count</th>\n",
       "    </tr>\n",
       "  </thead>\n",
       "  <tbody>\n",
       "    <tr>\n",
       "      <th>0</th>\n",
       "      <td>1</td>\n",
       "      <td>3</td>\n",
       "    </tr>\n",
       "    <tr>\n",
       "      <th>1</th>\n",
       "      <td>2</td>\n",
       "      <td>3</td>\n",
       "    </tr>\n",
       "    <tr>\n",
       "      <th>2</th>\n",
       "      <td>3</td>\n",
       "      <td>2</td>\n",
       "    </tr>\n",
       "    <tr>\n",
       "      <th>3</th>\n",
       "      <td>4</td>\n",
       "      <td>4</td>\n",
       "    </tr>\n",
       "    <tr>\n",
       "      <th>4</th>\n",
       "      <td>5</td>\n",
       "      <td>4</td>\n",
       "    </tr>\n",
       "    <tr>\n",
       "      <th>5</th>\n",
       "      <td>6</td>\n",
       "      <td>1</td>\n",
       "    </tr>\n",
       "    <tr>\n",
       "      <th>6</th>\n",
       "      <td>7</td>\n",
       "      <td>5</td>\n",
       "    </tr>\n",
       "    <tr>\n",
       "      <th>7</th>\n",
       "      <td>8</td>\n",
       "      <td>3</td>\n",
       "    </tr>\n",
       "    <tr>\n",
       "      <th>8</th>\n",
       "      <td>9</td>\n",
       "      <td>4</td>\n",
       "    </tr>\n",
       "    <tr>\n",
       "      <th>9</th>\n",
       "      <td>10</td>\n",
       "      <td>4</td>\n",
       "    </tr>\n",
       "  </tbody>\n",
       "</table>\n",
       "</div>"
      ],
      "text/plain": [
       "   character_id  character_count\n",
       "0             1                3\n",
       "1             2                3\n",
       "2             3                2\n",
       "3             4                4\n",
       "4             5                4\n",
       "5             6                1\n",
       "6             7                5\n",
       "7             8                3\n",
       "8             9                4\n",
       "9            10                4"
      ]
     },
     "execution_count": 39,
     "metadata": {},
     "output_type": "execute_result"
    }
   ],
   "source": [
    "import pandas as pd\n",
    "\n",
    "#get columns from cursor object\n",
    "columns = list(map(lambda x:x[0], cursor.description))\n",
    "\n",
    "#assign to dataframe\n",
    "df7 = pd.DataFrame(data=result7,columns=columns)\n",
    "print(df7.shape)\n",
    "df7.head(10)"
   ]
  },
  {
   "cell_type": "markdown",
   "metadata": {},
   "source": [
    "## Q8. On average, how many Weapons does each character have?"
   ]
  },
  {
   "cell_type": "code",
   "execution_count": null,
   "metadata": {},
   "outputs": [],
   "source": [
    "query8 ='''\n",
    "SELECT\n",
    "AVG(weapon_count) AS avg_weapons\n",
    "FROM\n",
    "\n",
    "'''"
   ]
  },
  {
   "cell_type": "code",
   "execution_count": 40,
   "metadata": {},
   "outputs": [],
   "source": [
    "def get_data(query,conn):\n",
    "    ''' function to get data from SQLite DB'''\n",
    "    \n",
    "    conn = sqlite3.connect(\"rpg_db.sqlite3\")\n",
    "    \n",
    "    cursor = conn.cursor()\n",
    "    result2 = cursor.execute(query).fetchall()\n",
    "    \n",
    "    #get columns from cursor object\n",
    "    columns = list(map(lambda x: x[0],cursor.description))\n",
    "    \n",
    "    #Assign to dataframe\n",
    "    df = pd.DataFrame(data=result2,columns=columns)\n",
    "    return df"
   ]
  },
  {
   "cell_type": "code",
   "execution_count": 41,
   "metadata": {},
   "outputs": [
    {
     "ename": "TypeError",
     "evalue": "get_data() missing 1 required positional argument: 'conn'",
     "output_type": "error",
     "traceback": [
      "\u001b[0;31m---------------------------------------------------------------------------\u001b[0m",
      "\u001b[0;31mTypeError\u001b[0m                                 Traceback (most recent call last)",
      "\u001b[0;32m<ipython-input-41-467867d1ba51>\u001b[0m in \u001b[0;36m<module>\u001b[0;34m\u001b[0m\n\u001b[0;32m----> 1\u001b[0;31m \u001b[0mdf2\u001b[0m \u001b[0;34m=\u001b[0m \u001b[0mget_data\u001b[0m\u001b[0;34m(\u001b[0m\u001b[0;34m'SELECT * FROM charactercreator_character'\u001b[0m\u001b[0;34m)\u001b[0m\u001b[0;34m\u001b[0m\u001b[0;34m\u001b[0m\u001b[0m\n\u001b[0m\u001b[1;32m      2\u001b[0m \u001b[0mprint\u001b[0m\u001b[0;34m(\u001b[0m\u001b[0mdf\u001b[0m\u001b[0;34m.\u001b[0m\u001b[0mshape\u001b[0m\u001b[0;34m)\u001b[0m\u001b[0;34m\u001b[0m\u001b[0;34m\u001b[0m\u001b[0m\n",
      "\u001b[0;31mTypeError\u001b[0m: get_data() missing 1 required positional argument: 'conn'"
     ]
    }
   ],
   "source": [
    "df2 = get_data('SELECT * FROM charactercreator_character')\n",
    "print(df.shape)"
   ]
  },
  {
   "cell_type": "code",
   "execution_count": null,
   "metadata": {},
   "outputs": [],
   "source": []
  }
 ],
 "metadata": {
  "kernelspec": {
   "display_name": "Python 3",
   "language": "python",
   "name": "python3"
  },
  "language_info": {
   "codemirror_mode": {
    "name": "ipython",
    "version": 3
   },
   "file_extension": ".py",
   "mimetype": "text/x-python",
   "name": "python",
   "nbconvert_exporter": "python",
   "pygments_lexer": "ipython3",
   "version": "3.8.3"
  }
 },
 "nbformat": 4,
 "nbformat_minor": 4
}
